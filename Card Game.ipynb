{
 "cells": [
  {
   "cell_type": "markdown",
   "metadata": {},
   "source": [
    "# Card Game\n",
    "In the previous module we looked at how to make a simple card game, *Snap*. Your task ow is to use the same `playingCard` library to create your own card game. Ideally it would be based on an existing card game. Here are some examples:\n",
    " * Blackjack: players, and the dealer (computer), are dealt cards one at a time aiming to reach, but not exceed, a total card score of 21\n",
    " * Sevens: starting with a seven of any suit, players can build a stack of cards on either side (adding a six or an eight) until one player has no cards left\n",
    " * Texas Hold 'em: players are dealt two cards and three are placed at the centre of the table. The player with the best combination of cards, according to the rules of the sets, wins.\n",
    " \n",
    "These are very brief descriptions of each game; more detailed instructions on how the games run can be found online. You are also welcome to create your own card game or base it off another exisitng game, but think about the complexity and ensure it is chalenging enough. For example, *War* is a very simple card game where an entire deck is dealt to two players and they each play a card, with the player playing the higher card taking both. This is not very complex, so is unlikely to be enough of a challenge.\n",
    "\n",
    "Your final program should be a full playable card game, either against another human player or the computer."
   ]
  },
  {
   "cell_type": "code",
   "execution_count": null,
   "metadata": {},
   "outputs": [],
   "source": [
    "# YOUR SOLUTION HERE"
   ]
  }
 ],
 "metadata": {
  "kernelspec": {
   "display_name": "Python 3",
   "language": "python",
   "name": "python3"
  },
  "language_info": {
   "codemirror_mode": {
    "name": "ipython",
    "version": 3
   },
   "file_extension": ".py",
   "mimetype": "text/x-python",
   "name": "python",
   "nbconvert_exporter": "python",
   "pygments_lexer": "ipython3",
   "version": "3.7.6"
  }
 },
 "nbformat": 4,
 "nbformat_minor": 4
}
